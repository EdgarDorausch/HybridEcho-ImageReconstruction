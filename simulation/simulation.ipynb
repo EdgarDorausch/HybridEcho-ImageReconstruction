{
 "cells": [
  {
   "cell_type": "markdown",
   "metadata": {},
   "source": [
    "# Ultrasound Simulations"
   ]
  },
  {
   "cell_type": "code",
   "execution_count": null,
   "metadata": {},
   "outputs": [],
   "source": [
    "from typing import *\n",
    "import numpy as np\n",
    "import pandas as pd\n",
    "from matplotlib import pyplot as plt\n",
    "from time import time\n",
    "from tqdm import tqdm\n",
    "from numba import jit\n",
    "import math\n",
    "from utils.Scene import Scene\n",
    "\n",
    "%matplotlib inline\n",
    "plt.rcParams['figure.dpi'] = 140"
   ]
  },
  {
   "cell_type": "code",
   "execution_count": null,
   "metadata": {},
   "outputs": [],
   "source": [
    "rx_pos = np.array([\n",
    "    [ 0, 100],\n",
    "    [10, 100],\n",
    "    [20, 100]\n",
    "])\n",
    "\n",
    "tx_pos = np.array([\n",
    "    [ 5, 100],\n",
    "    [15, 100]\n",
    "])"
   ]
  },
  {
   "cell_type": "code",
   "execution_count": null,
   "metadata": {},
   "outputs": [],
   "source": [
    "import numpy.typing as npt\n",
    "\n",
    "class ArrayConfiguration:\n",
    "\n",
    "    def __init__(self, rx_pos: npt.ArrayLike, tx_pos: npt.ArrayLike) -> None:\n",
    "        self.rx_pos = np.array(rx_pos, dtype=np.float64)\n",
    "        self.tx_pos = np.array(tx_pos, dtype=np.float64)\n",
    "\n",
    "        rx_shape = self.rx_pos.shape\n",
    "        tx_shape = self.tx_pos.shape\n",
    "        assert len(rx_shape) == 2 and rx_shape[1] == 2, 'rx_pos should be of shape (*, 2)'\n",
    "        assert len(tx_shape) == 2 and tx_shape[1] == 2, 'tx_pos should be of shape (*, 2)'\n",
    "\n",
    "    def get_combined(self) -> np.ndarray:\n",
    "        \"\"\"\n",
    "        Computes the cartesian product of two position spaces \n",
    "        \"\"\"\n",
    "        i = 0\n",
    "        merged = np.empty([self.rx_pos.shape[0]*self.tx_pos.shape[0], 4])\n",
    "        for prx in self.rx_pos:\n",
    "            for ptx in self.tx_pos:\n",
    "                merged[i,:2] = prx\n",
    "                merged[i,2:] = ptx\n",
    "                i+=1\n",
    "        return merged\n",
    "\n",
    "    def __array__(self):\n",
    "        return self.get_combined()"
   ]
  },
  {
   "cell_type": "code",
   "execution_count": null,
   "metadata": {},
   "outputs": [],
   "source": [
    "ac = ArrayConfiguration([\n",
    "    [ 0, 100],\n",
    "    [10, 100],\n",
    "    [20, 100]\n",
    "],\n",
    "[\n",
    "    [ 5, 100],\n",
    "    [15, 100]\n",
    "])"
   ]
  },
  {
   "cell_type": "code",
   "execution_count": null,
   "metadata": {},
   "outputs": [],
   "source": [
    "class ScatterConfiguration:\n",
    "\n",
    "    def __init__(self) -> None:\n",
    "        self.pos_scatter: List[List[float]] = []\n",
    "\n",
    "    def add_circle(self, r_vec: np.ndarray, midpoint: np.ndarray, num: int):\n",
    "        \n",
    "        m_cmplx = midpoint[0]+ 1.0j*midpoint[1]\n",
    "        r_cmplx = r_vec[0] + 1.0j*r_vec[1]\n",
    "\n",
    "        pos_elements = np.empty([num, 2])\n",
    "        rotations = np.exp(2j*np.pi*np.arange(num)/num)\n",
    "        pos_cmplx = rotations*r_cmplx + m_cmplx\n",
    "\n",
    "        pos_elements[:, 0] = pos_cmplx.real\n",
    "        pos_elements[:, 1] = pos_cmplx.imag\n",
    "\n",
    "        self.pos_scatter.extend(pos_elements.tolist())\n",
    "\n",
    "    def __array__(self):\n",
    "        return np.array(self.pos_scatter)\n",
    "\n",
    "        "
   ]
  },
  {
   "cell_type": "code",
   "execution_count": null,
   "metadata": {},
   "outputs": [],
   "source": [
    "sc = ScatterConfiguration()\n",
    "sc.add_circle([10, 0], [10,60], 100)\n"
   ]
  },
  {
   "cell_type": "code",
   "execution_count": null,
   "metadata": {},
   "outputs": [],
   "source": [
    "pos_rx_tx = np.array(ac)\n",
    "pos_scatter = np.array(sc)"
   ]
  },
  {
   "cell_type": "code",
   "execution_count": null,
   "metadata": {},
   "outputs": [],
   "source": [
    "ax = plt.subplot()\n",
    "\n",
    "ax.scatter(pos_rx_tx[:,0], pos_rx_tx[:,1], label='TX')\n",
    "ax.scatter(pos_rx_tx[:,2], pos_rx_tx[:,3], label='RX')\n",
    "ax.scatter(pos_scatter[:,0], pos_scatter[:,1], label='scatter')\n",
    "ax.set_ylim(0,120)\n",
    "ax.set_xlim(0,120)\n",
    "\n",
    "ax.legend()"
   ]
  },
  {
   "cell_type": "code",
   "execution_count": null,
   "metadata": {},
   "outputs": [],
   "source": [
    "def merge_positions(pos1, pos2):\n",
    "    \"\"\"\n",
    "    Computes the cartesian product of two position spaces \n",
    "    \"\"\"\n",
    "    i = 0\n",
    "    merged = np.empty([pos1.shape[0]* pos2.shape[0], pos1.shape[1]+pos2.shape[1]])\n",
    "    for prx in pos1:\n",
    "        for ptx in pos2:\n",
    "            merged[i,:pos1.shape[1]] = prx\n",
    "            merged[i,pos1.shape[1]:] = ptx\n",
    "            i+=1\n",
    "    return merged\n",
    "\n",
    "pos = merge_positions(rx_pos, tx_pos)\n",
    "pos.shape"
   ]
  },
  {
   "cell_type": "code",
   "execution_count": null,
   "metadata": {},
   "outputs": [],
   "source": [
    "pos_rx_tx = pd.DataFrame(pos, columns=['r_x', 'r_z', 't_x', 't_z'])\n",
    "pos_rx_tx"
   ]
  },
  {
   "cell_type": "code",
   "execution_count": null,
   "metadata": {},
   "outputs": [],
   "source": [
    "def circle_positions(r_vec:np.ndarray, midpoint: np.ndarray, num: int) -> np.ndarray:\n",
    "    m_cmplx = midpoint[0]+ 1.0j*midpoint[1]\n",
    "    r_cmplx = r_vec[0] + 1.0j*r_vec[1]\n",
    "\n",
    "    pos_elements = np.empty([num, 2])\n",
    "    rotations = np.exp(2j*np.pi*np.arange(num)/num)\n",
    "    pos_cmplx = rotations*r_cmplx + m_cmplx\n",
    "\n",
    "    pos_elements[:, 0] = pos_cmplx.real\n",
    "    pos_elements[:, 1] = pos_cmplx.imag\n",
    "\n",
    "    return pos_elements\n"
   ]
  },
  {
   "cell_type": "code",
   "execution_count": null,
   "metadata": {},
   "outputs": [],
   "source": [
    "circle_positions([10, 0], [10,60], 8)"
   ]
  },
  {
   "cell_type": "code",
   "execution_count": null,
   "metadata": {},
   "outputs": [],
   "source": [
    "\n",
    "\n",
    "pos_scatter = pd.DataFrame(\n",
    "    circle_positions([10, 0], [10,60], 100), \n",
    "    columns=['x','z'],\n",
    "    dtype=np.float64)\n",
    "\n",
    "pos_scatter"
   ]
  },
  {
   "cell_type": "code",
   "execution_count": null,
   "metadata": {},
   "outputs": [],
   "source": [
    "proj_2d = np.array([[1, 0], [0, 0], [0,1]], dtype=float)"
   ]
  },
  {
   "cell_type": "code",
   "execution_count": null,
   "metadata": {},
   "outputs": [],
   "source": [
    "ax = plt.subplot()\n",
    "\n",
    "ax.scatter(pos_rx_tx.t_x, pos_rx_tx.t_z, label='TX')\n",
    "ax.scatter(pos_rx_tx.r_x, pos_rx_tx.r_z, label='RX')\n",
    "ax.scatter(pos_scatter.x, pos_scatter.z, label='scatter')\n",
    "ax.set_ylim(0,120)\n",
    "ax.set_xlim(0,120)\n",
    "\n",
    "ax.legend()"
   ]
  },
  {
   "cell_type": "code",
   "execution_count": null,
   "metadata": {},
   "outputs": [],
   "source": [
    "# Experiment Specs:\n",
    "\n",
    "# Sampling freq.\n",
    "f_samp = 100e6 # [Hz]\n",
    "\n",
    "f_min, f_max = 2e6, 10e6 # [Hz]    <-- TODO\n",
    "\n",
    "# Sampling period\n",
    "dt_samp = 1/f_samp # [s]\n",
    "\n",
    "# Mean speed of sound (water)\n",
    "c_sound = 1_484_000.0 # [mm/s]\n",
    "\n",
    "t_record = 2e-4 # [s]"
   ]
  },
  {
   "cell_type": "code",
   "execution_count": null,
   "metadata": {},
   "outputs": [],
   "source": [
    "time_series= np.zeros([pos_rx_tx.shape[0], int(t_record*f_samp)])"
   ]
  },
  {
   "cell_type": "code",
   "execution_count": null,
   "metadata": {},
   "outputs": [],
   "source": [
    "for i, row in enumerate(pos_rx_tx.to_numpy()):\n",
    "    for scat in pos_scatter.to_numpy():\n",
    "        r1 = np.linalg.norm(row[:2]-scat)\n",
    "        r2 = np.linalg.norm(row[2:]-scat)\n",
    "\n",
    "        idx =int((r1+r2)/c_sound*f_samp)\n",
    "        # print(idx)\n",
    "        time_series[i, idx] += 1/(r1*r2)"
   ]
  },
  {
   "cell_type": "code",
   "execution_count": null,
   "metadata": {},
   "outputs": [],
   "source": [
    "ax = plt.subplot()\n",
    "ax.plot(np.arange(time_series.shape[1])*dt_samp, time_series[0])\n",
    "ax.ticklabel_format(style='sci', axis='x', scilimits=(0,0))\n",
    "ax.set_xlabel('time [s]')"
   ]
  },
  {
   "cell_type": "code",
   "execution_count": null,
   "metadata": {},
   "outputs": [],
   "source": [
    "import numpy as np\n",
    "\n",
    "class Simulation2D:\n",
    "\n",
    "    def __init__(self, f_samp: float,  c: float, t1: float, t0: float=0.0):\n",
    "        \"\"\"Generating simulation data in a 2D coordinate system. (Still 3D physics where used for the simulation itself.)\n",
    "\n",
    "        Args:\n",
    "            f_samp (float): sampling frequency. unit=[s]\n",
    "            c (float): speed of signal. unit=[mm/s]\n",
    "            t1 (float): simulation stop time. unit=[s]\n",
    "            t0 (float): simulation start time. unit=[s]\n",
    "        \"\"\"\n",
    "        if t0 >= t1:\n",
    "            raise Exception('t0 has to be smaller than t1')\n",
    "\n",
    "        self.f_samp = f_samp\n",
    "        self.t0 = t0\n",
    "        self.t1 = t1\n",
    "        self.c = c\n",
    "\n",
    "\n",
    "    @property\n",
    "    def sig_len(self) -> int:\n",
    "        \"\"\"Signal length (i.e. SIG_LEN). unit=none\n",
    "        \"\"\"\n",
    "        return int(self.t_record * self.f_samp)\n",
    "\n",
    "    @property\n",
    "    def t_record(self) -> float:\n",
    "        \"\"\"duration of recording. unit=[s]\n",
    "        \"\"\"\n",
    "        return self.t1 - self.t0\n",
    "\n",
    "\n",
    "    def simulate(self, pos_tx_rx: np.ndarray, pos_scatter: np.ndarray) ->  np.ndarray:\n",
    "        \"\"\"[summary]\n",
    "\n",
    "        Args:\n",
    "            pos_tx_rx (np.ndarray): defining the positions of the TX and RX elements. shape=(NUM_REL, 4) & unit=[mm]\n",
    "            pos_scatter (np.ndarray): defining the positions of the scatters. shape=(NUM_SCATTER, 2) & unit=[mm]\n",
    "\n",
    "        Returns:\n",
    "            np.ndarray: resulting timelines from simulation. shape=(NUM_REL, SIG_LEN) & unit=[s]\n",
    "        \"\"\"\n",
    "\n",
    "        time_series = np.zeros([pos_tx_rx.shape[0], self.sig_len])\n",
    "\n",
    "        for i, row in enumerate(pos_tx_rx):\n",
    "            for scat in pos_scatter:\n",
    "                r1 = np.linalg.norm(row[:2]-scat)\n",
    "                r2 = np.linalg.norm(row[2:]-scat)\n",
    "\n",
    "                idx =int((r1+r2)/self.c*self.f_samp)\n",
    "                time_series[i, idx] += 1/(r1*r2)\n",
    "        \n",
    "        return time_series\n",
    "\n",
    "    @property\n",
    "    def time_space(self) -> np.ndarray:\n",
    "        return np.arange(self.sig_len)/self.f_samp + self.t0\n",
    "    "
   ]
  },
  {
   "cell_type": "code",
   "execution_count": null,
   "metadata": {},
   "outputs": [],
   "source": [
    "s = Simulation2D(\n",
    "    f_samp=1e6,\n",
    "    c=1_484_000.0,\n",
    "    t1=2e-4\n",
    ")"
   ]
  },
  {
   "cell_type": "code",
   "execution_count": null,
   "metadata": {},
   "outputs": [],
   "source": [
    "t = s.simulate(pos_rx_tx.to_numpy(), pos_scatter.to_numpy())"
   ]
  },
  {
   "cell_type": "code",
   "execution_count": null,
   "metadata": {},
   "outputs": [],
   "source": [
    "ax = plt.subplot()\n",
    "ax.plot(s.time_space, t[0])\n",
    "ax.ticklabel_format(style='sci', axis='x', scilimits=(0,0))\n",
    "ax.set_xlim(4e-5, 7.5e-5)\n",
    "ax.set_xlabel('time [s]')"
   ]
  },
  {
   "cell_type": "code",
   "execution_count": null,
   "metadata": {},
   "outputs": [],
   "source": [
    "import plotly.graph_objects as go\n",
    "import numpy as np\n",
    "\n",
    "fig = go.Figure(data=go.Scatter(x=s.time_space, y=t[0]))\n",
    "fig.show()"
   ]
  },
  {
   "cell_type": "code",
   "execution_count": null,
   "metadata": {},
   "outputs": [],
   "source": [
    "import numpy as np\n",
    "\n",
    "class Simulation2DFourierInterpol:\n",
    "\n",
    "    def __init__(self, f_samp: float,  c: float, t1: float, t0: float=0.0):\n",
    "        \"\"\"Generating simulation data in a 2D coordinate system. (Still 3D physics where used for the simulation itself.)\n",
    "\n",
    "        Args:\n",
    "            f_samp (float): sampling frequency. unit=[s]\n",
    "            c (float): speed of signal. unit=[mm/s]\n",
    "            t1 (float): simulation stop time. unit=[s]\n",
    "            t0 (float): simulation start time. unit=[s]\n",
    "        \"\"\"\n",
    "        if t0 >= t1:\n",
    "            raise Exception('t0 has to be smaller than t1')\n",
    "\n",
    "        self.f_samp = f_samp\n",
    "        self.t0 = t0\n",
    "        self.t1 = t1\n",
    "        self.c = c\n",
    "\n",
    "\n",
    "    @property\n",
    "    def sig_len(self) -> int:\n",
    "        \"\"\"Signal length (i.e. SIG_LEN). unit=none\n",
    "        \"\"\"\n",
    "        return int(self.t_record * self.f_samp)\n",
    "\n",
    "    @property\n",
    "    def t_record(self) -> float:\n",
    "        \"\"\"duration of recording. unit=[s]\n",
    "        \"\"\"\n",
    "        return self.t1 - self.t0\n",
    "\n",
    "\n",
    "    def simulate(self, pos_tx_rx: np.ndarray, pos_scatter: np.ndarray) ->  np.ndarray:\n",
    "        \"\"\"[summary]\n",
    "\n",
    "        Args:\n",
    "            pos_tx_rx (np.ndarray): defining the positions of the TX and RX elements. shape=(NUM_REL, 4) & unit=[mm]\n",
    "            pos_scatter (np.ndarray): defining the positions of the scatters. shape=(NUM_SCATTER, 2) & unit=[mm]\n",
    "\n",
    "        Returns:\n",
    "            np.ndarray: resulting timelines from simulation. shape=(NUM_REL, SIG_LEN) & unit=[s]\n",
    "        \"\"\"\n",
    "\n",
    "        time_series = np.zeros([pos_tx_rx.shape[0], self.sig_len], dtype=np.complex128)\n",
    "\n",
    "        phase_base = -2j * np.pi/self.sig_len * np.arange(self.sig_len)\n",
    "\n",
    "        for i, row in enumerate(pos_tx_rx):\n",
    "            for scat in pos_scatter:\n",
    "                r1 = np.linalg.norm(row[:2]-scat)\n",
    "                r2 = np.linalg.norm(row[2:]-scat)\n",
    "\n",
    "                t_shift = (r1+r2)/self.c*self.f_samp\n",
    "                time_series[i] += 1/(r1*r2) * np.exp(phase_base * t_shift)\n",
    "        \n",
    "        return np.abs(np.fft.ifft(time_series))\n",
    "\n",
    "    @property\n",
    "    def time_space(self) -> np.ndarray:\n",
    "        return np.arange(self.sig_len)/self.f_samp + self.t0\n",
    "    "
   ]
  },
  {
   "cell_type": "code",
   "execution_count": null,
   "metadata": {},
   "outputs": [],
   "source": [
    "s = Simulation2DFourierInterpol(\n",
    "    f_samp=1e6,\n",
    "    c=1_484_000.0,\n",
    "    t1=2e-4\n",
    ")"
   ]
  },
  {
   "cell_type": "code",
   "execution_count": null,
   "metadata": {},
   "outputs": [],
   "source": [
    "t = s.simulate(pos_rx_tx.to_numpy(), pos_scatter.to_numpy())"
   ]
  },
  {
   "cell_type": "code",
   "execution_count": null,
   "metadata": {},
   "outputs": [],
   "source": [
    "ax = plt.subplot()\n",
    "ax.plot(s.time_space, t[0])\n",
    "ax.ticklabel_format(style='sci', axis='x', scilimits=(0,0))\n",
    "ax.set_xlabel('time [s]')"
   ]
  },
  {
   "cell_type": "code",
   "execution_count": null,
   "metadata": {},
   "outputs": [],
   "source": [
    "import plotly.graph_objects as go\n",
    "import numpy as np\n",
    "\n",
    "x = np.arange(10)\n",
    "\n",
    "fig = go.Figure(data=go.Scatter(x=s.time_space, y=t[0]))\n",
    "fig.show()"
   ]
  },
  {
   "cell_type": "code",
   "execution_count": null,
   "metadata": {},
   "outputs": [],
   "source": [
    "import numpy as np\n",
    "\n",
    "class Simulation2DTimeInterpol:\n",
    "\n",
    "    def __init__(self, f_samp: float,  c: float, t1: float, t0: float=0.0):\n",
    "        \"\"\"Generating simulation data in a 2D coordinate system. (Still 3D physics where used for the simulation itself.)\n",
    "\n",
    "        Args:\n",
    "            f_samp (float): sampling frequency. unit=[s]\n",
    "            c (float): speed of signal. unit=[mm/s]\n",
    "            t1 (float): simulation stop time. unit=[s]\n",
    "            t0 (float): simulation start time. unit=[s]\n",
    "        \"\"\"\n",
    "        if t0 >= t1:\n",
    "            raise Exception('t0 has to be smaller than t1')\n",
    "\n",
    "        self.f_samp = f_samp\n",
    "        self.t0 = t0\n",
    "        self.t1 = t1\n",
    "        self.c = c\n",
    "\n",
    "\n",
    "    @property\n",
    "    def sig_len(self) -> int:\n",
    "        \"\"\"Signal length (i.e. SIG_LEN). unit=none\n",
    "        \"\"\"\n",
    "        return int(self.t_record * self.f_samp)\n",
    "\n",
    "    @property\n",
    "    def t_record(self) -> float:\n",
    "        \"\"\"duration of recording. unit=[s]\n",
    "        \"\"\"\n",
    "        return self.t1 - self.t0\n",
    "\n",
    "\n",
    "    def simulate(self, pos_tx_rx: np.ndarray, pos_scatter: np.ndarray) ->  np.ndarray:\n",
    "        \"\"\"[summary]\n",
    "\n",
    "        Args:\n",
    "            pos_tx_rx (np.ndarray): defining the positions of the TX and RX elements. shape=(NUM_REL, 4) & unit=[mm]\n",
    "            pos_scatter (np.ndarray): defining the positions of the scatters. shape=(NUM_SCATTER, 2) & unit=[mm]\n",
    "\n",
    "        Returns:\n",
    "            np.ndarray: resulting timelines from simulation. shape=(NUM_REL, SIG_LEN) & unit=[s]\n",
    "        \"\"\"\n",
    "\n",
    "        time_series = np.zeros([pos_tx_rx.shape[0], self.sig_len], dtype=np.float64)\n",
    "\n",
    "        phase_base = -2j * np.pi/self.sig_len * np.arange(self.sig_len)\n",
    "\n",
    "        for i, row in enumerate(pos_tx_rx):\n",
    "            for scat in pos_scatter:\n",
    "                r1 = np.linalg.norm(row[:2]-scat)\n",
    "                r2 = np.linalg.norm(row[2:]-scat)\n",
    "\n",
    "                t_shift = (r1+r2)/self.c*self.f_samp\n",
    "                i0 = math.floor(t_shift)\n",
    "\n",
    "                time_series[i, i0] += 1/(r1*r2) * ((i0+1)-t_shift)\n",
    "                time_series[i, i0+1] += 1/(r1*r2) * (t_shift-i0)\n",
    "        return time_series\n",
    "\n",
    "    @property\n",
    "    def time_space(self) -> np.ndarray:\n",
    "        return np.arange(self.sig_len)/self.f_samp + self.t0\n",
    "    "
   ]
  },
  {
   "cell_type": "code",
   "execution_count": null,
   "metadata": {},
   "outputs": [],
   "source": [
    "s = Simulation2DTimeInterpol(\n",
    "    f_samp=1e6,\n",
    "    c=1_484_000.0,\n",
    "    t1=2e-4\n",
    ")"
   ]
  },
  {
   "cell_type": "code",
   "execution_count": null,
   "metadata": {},
   "outputs": [],
   "source": [
    "t = s.simulate(pos_rx_tx.to_numpy(), pos_scatter.to_numpy())"
   ]
  },
  {
   "cell_type": "code",
   "execution_count": null,
   "metadata": {},
   "outputs": [],
   "source": [
    "ax = plt.subplot()\n",
    "ax.plot(s.time_space, t[0])\n",
    "ax.ticklabel_format(style='sci', axis='x', scilimits=(0,0))\n",
    "ax.set_xlabel('time [s]')"
   ]
  },
  {
   "cell_type": "code",
   "execution_count": null,
   "metadata": {},
   "outputs": [],
   "source": [
    "import plotly.graph_objects as go\n",
    "import numpy as np\n",
    "\n",
    "x = np.arange(10)\n",
    "\n",
    "fig = go.Figure(data=go.Scatter(x=s.time_space, y=t[0]))\n",
    "fig.show()"
   ]
  },
  {
   "cell_type": "code",
   "execution_count": null,
   "metadata": {},
   "outputs": [],
   "source": [
    "from utils.Simulation.simulation2d import LinISimulation\n",
    "\n",
    "sim = LinISimulation(\n",
    "    f_samp=100e6,\n",
    "    c=1_484_000.0,\n",
    "    t1=2e-4\n",
    ")\n",
    "t = sim.simulate(pos_rx_tx.to_numpy(), pos_scatter.to_numpy())\n",
    "\n",
    "\n",
    "fig = go.Figure(data=go.Scatter(x=sim.time_space, y=t[0]))\n",
    "fig.update_xaxes(title_text='travel time [s]')\n",
    "fig.show()\n"
   ]
  },
  {
   "cell_type": "code",
   "execution_count": null,
   "metadata": {},
   "outputs": [],
   "source": []
  }
 ],
 "metadata": {
  "interpreter": {
   "hash": "c6ebc3140717ed1dfd69c5c1c6b5ee3ea7784441aa13555f1fb1be1f1508e23e"
  },
  "kernelspec": {
   "display_name": "Python 3.8.12 64-bit ('HybridEcho': conda)",
   "language": "python",
   "name": "python3"
  },
  "language_info": {
   "codemirror_mode": {
    "name": "ipython",
    "version": 3
   },
   "file_extension": ".py",
   "mimetype": "text/x-python",
   "name": "python",
   "nbconvert_exporter": "python",
   "pygments_lexer": "ipython3",
   "version": "3.8.12"
  },
  "orig_nbformat": 4
 },
 "nbformat": 4,
 "nbformat_minor": 2
}
