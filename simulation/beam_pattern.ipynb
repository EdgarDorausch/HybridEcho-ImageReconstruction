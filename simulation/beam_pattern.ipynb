{
 "cells": [
  {
   "cell_type": "code",
   "execution_count": null,
   "metadata": {},
   "outputs": [],
   "source": [
    "import numpy as np\n",
    "import matplotlib.pyplot as plt\n",
    "from tqdm import tqdm\n",
    "\n",
    "\n",
    "%matplotlib inline\n",
    "plt.rcParams['figure.dpi'] = 260"
   ]
  },
  {
   "cell_type": "code",
   "execution_count": null,
   "metadata": {},
   "outputs": [],
   "source": [
    "step_dens = 1/10\n",
    "\n",
    "pos = np.array(\n",
    "    np.meshgrid(\n",
    "        np.arange(0.0, 10.0, step=step_dens),\n",
    "        np.arange(0.0, 40.0, step=step_dens)\n",
    "    )\n",
    ")"
   ]
  },
  {
   "cell_type": "code",
   "execution_count": null,
   "metadata": {},
   "outputs": [],
   "source": [
    "np.info(pos)"
   ]
  },
  {
   "cell_type": "code",
   "execution_count": null,
   "metadata": {},
   "outputs": [],
   "source": [
    "ap1 = np.array([3.0, 10.0])\n",
    "ap2 = np.array([7.0, 10.0])\n",
    "\n",
    "ap_diff = ap2 - ap1"
   ]
  },
  {
   "cell_type": "code",
   "execution_count": null,
   "metadata": {},
   "outputs": [],
   "source": [
    "t = np.linspace(0.0, 1.0, num=200)\n",
    "sig = np.sin(4.0*t)\n",
    "\n",
    "p_shift_im = np.zeros([len(sig), *pos.shape[1:]], dtype=np.complex128)\n",
    "np.info(p_shift_im)"
   ]
  },
  {
   "cell_type": "code",
   "execution_count": null,
   "metadata": {},
   "outputs": [],
   "source": [
    "N = 100\n",
    "p_shift_im = np.zeros([len(sig), *pos.shape[1:]], dtype=np.complex128)\n",
    "for i in tqdm(range(N)):\n",
    "    ap = ap1 + i/N * ap_diff\n",
    "    r = np.linalg.norm(pos - ap[:, None, None], axis=0)\n",
    "    p_shift_im += np.exp(-2.0j * np.pi * r[None, :, :] * t[:, None, None])/(r+0.001)/N\n",
    "\n",
    "p_shift_im_sq = abs(p_shift_im)**2"
   ]
  },
  {
   "cell_type": "code",
   "execution_count": null,
   "metadata": {},
   "outputs": [],
   "source": [
    "import plotly.express as px\n",
    "\n",
    "fig = px.imshow(np.log10(p_shift_im_sq[:,:,:]),animation_frame=0)\n",
    "fig.write_html('beam_pattern.html')"
   ]
  },
  {
   "cell_type": "markdown",
   "metadata": {},
   "source": [
    "Average signal power per period of dirac comb"
   ]
  },
  {
   "cell_type": "code",
   "execution_count": null,
   "metadata": {},
   "outputs": [],
   "source": [
    "plt.imshow(np.log10(np.sum(p_shift_im_sq[:,:,:], 0)), cmap='inferno')"
   ]
  },
  {
   "cell_type": "code",
   "execution_count": null,
   "metadata": {},
   "outputs": [],
   "source": [
    "plt.plot(p_shift_im_sq[:,100, 30])"
   ]
  },
  {
   "cell_type": "code",
   "execution_count": null,
   "metadata": {},
   "outputs": [],
   "source": [
    "# sig = np.cos(100*t**2)\n",
    "sig = np.zeros([len(t)])\n",
    "sig[0:200] = 1\n",
    "plt.plot(sig)"
   ]
  },
  {
   "cell_type": "code",
   "execution_count": null,
   "metadata": {},
   "outputs": [],
   "source": [
    "plt.plot(abs(np.fft.fft(sig)))"
   ]
  },
  {
   "cell_type": "code",
   "execution_count": null,
   "metadata": {},
   "outputs": [],
   "source": [
    "w = np.einsum('ijk,i->jk', p_shift_im_sq[:,:,:], abs(np.fft.fft(sig))**2)"
   ]
  },
  {
   "cell_type": "code",
   "execution_count": null,
   "metadata": {},
   "outputs": [],
   "source": [
    "plt.imshow(np.log10(w), cmap='inferno')"
   ]
  },
  {
   "cell_type": "code",
   "execution_count": null,
   "metadata": {},
   "outputs": [],
   "source": []
  },
  {
   "cell_type": "code",
   "execution_count": null,
   "metadata": {},
   "outputs": [],
   "source": []
  }
 ],
 "metadata": {
  "interpreter": {
   "hash": "c6ebc3140717ed1dfd69c5c1c6b5ee3ea7784441aa13555f1fb1be1f1508e23e"
  },
  "kernelspec": {
   "display_name": "Python 3.8.12 64-bit ('HybridEcho': conda)",
   "language": "python",
   "name": "python3"
  },
  "language_info": {
   "codemirror_mode": {
    "name": "ipython",
    "version": 3
   },
   "file_extension": ".py",
   "mimetype": "text/x-python",
   "name": "python",
   "nbconvert_exporter": "python",
   "pygments_lexer": "ipython3",
   "version": "3.8.12"
  },
  "orig_nbformat": 4
 },
 "nbformat": 4,
 "nbformat_minor": 2
}
