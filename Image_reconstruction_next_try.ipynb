{
 "cells": [
  {
   "cell_type": "markdown",
   "metadata": {},
   "source": [
    "# Load Data\n"
   ]
  },
  {
   "cell_type": "code",
   "execution_count": null,
   "metadata": {},
   "outputs": [],
   "source": [
    "import numpy as np\n",
    "\n",
    "from matplotlib import pyplot as plt\n",
    "from time import time\n",
    "from tqdm import tqdm\n",
    "from scipy.sparse import csr_matrix, csc_matrix\n",
    "from numba import jit\n",
    "\n",
    "%matplotlib inline\n",
    "plt.rcParams['figure.dpi'] = 140\n",
    "\n",
    "from src.Kernel import GaussKernel\n",
    "from src.EllipsoidRenderer import EllipsoidRenderer\n",
    "from src.GridBuilder import ImageGridBuilder\n",
    "from read_data import load_position_data"
   ]
  },
  {
   "cell_type": "code",
   "execution_count": null,
   "metadata": {},
   "outputs": [],
   "source": [
    "# Load Data\n",
    "\n",
    "data_raw = np.load('data/toastgitter/all_data.npy') # Shape [STEPS, NUM_REL]\n",
    "p_pos, c_pos = load_position_data('data/toastgitter/LOGFILE_unified_coordinates.txt')\n",
    "NUM_SAMPLES, NUM_RELATIONS = data_raw.shape\n",
    "\n",
    "print(data_raw.shape)"
   ]
  },
  {
   "cell_type": "markdown",
   "metadata": {},
   "source": [
    "# Downsampling"
   ]
  },
  {
   "cell_type": "code",
   "execution_count": null,
   "metadata": {},
   "outputs": [],
   "source": [
    "# Define signal freq. band\n",
    "\n",
    "f_min, f_max = 2.5e6, 7e6 # [Hz]  Measured: 2_497_863, 6_999_206\n",
    "\n",
    "# Sampling rate\n",
    "f_samp = 100e6 # [Hz]\n",
    "\n",
    "# Speed of sound\n",
    "c_sound = 1_484_000.0 # [mm/s]\n",
    "\n",
    "# Bandwidth\n",
    "bwidth = f_max - f_min # [Hz]\n",
    "\n",
    "# Sample time delta\n",
    "dt_samp = 1/f_samp"
   ]
  },
  {
   "cell_type": "code",
   "execution_count": null,
   "metadata": {},
   "outputs": [],
   "source": [
    "idx1 = int(f_min/f_samp*NUM_SAMPLES) \n",
    "idx2 = int(f_max/f_samp*NUM_SAMPLES)\n",
    "print({'index_min': idx1, 'index_max': idx2})"
   ]
  },
  {
   "cell_type": "code",
   "execution_count": null,
   "metadata": {},
   "outputs": [],
   "source": [
    "data_ft = np.fft.fft(data_raw, axis=0)\n",
    "data_sel = data_ft[idx1:idx2, :]\n",
    "data = np.abs(np.fft.ifft(data_sel, axis=0))"
   ]
  },
  {
   "cell_type": "code",
   "execution_count": null,
   "metadata": {},
   "outputs": [],
   "source": [
    "def plot_band_selection(samples = [0]):\n",
    "    num_samples = len(samples)\n",
    "\n",
    "    fig, axs = plt.subplots(num_samples+1, 2, figsize=[20,5*num_samples])\n",
    "\n",
    "   \n",
    "\n",
    "    for i, s in enumerate(samples):\n",
    "        axs[i,0].plot(data_ft[:,s].real)\n",
    "        axs[i,0].axvspan(idx1, idx2, color='red', alpha=0.2)\n",
    "        axs[i,0].set_title(f'Fourier Transform of measurement {s}')\n",
    "\n",
    "        h = int(0.1*(idx2 - idx1))\n",
    "        axs[i,1].plot(data_ft[idx1-h:idx2+h, s].real)\n",
    "        axs[i,1].axvspan(h, (idx2 - idx1)+h, color='red', alpha=0.2)\n",
    "        axs[i,1].set_title(f'Zoomed Fourier Transform of measurement {s}')\n",
    "\n",
    "    md = np.mean(data_ft.real, axis=1)\n",
    "    axs[num_samples,0].plot(md)\n",
    "    axs[num_samples,0].axvspan(idx1, idx2, color='red', alpha=0.2)\n",
    "    axs[num_samples,0].set_title(f'Mean Fourier Transform')\n",
    "\n",
    "    h = int(0.1*(idx2 - idx1))\n",
    "    axs[num_samples,1].plot(md[idx1-h:idx2+h].real)\n",
    "    axs[num_samples,1].axvspan(h, (idx2 - idx1)+h, color='red', alpha=0.2)\n",
    "    axs[num_samples,1].set_title(f'Zoomed Mean Fourier Transform')\n",
    "\n",
    "\n",
    "\n",
    "plot_band_selection([0, 1000])"
   ]
  },
  {
   "cell_type": "code",
   "execution_count": null,
   "metadata": {},
   "outputs": [],
   "source": [
    "f_res = f_samp/NUM_SAMPLES * (data.shape[0])\n",
    "dt = 1/f_res\n",
    "\n",
    "plt.plot(np.linspace(0, data_raw.shape[0]*dt_samp, data_raw.shape[0]), 8*data_raw[:,0].real)\n",
    "plt.plot(np.linspace(0, data.shape[0]*dt, data.shape[0]), abs(data[:,0]))\n",
    "plt.xlim(0.00027, 0.0003)"
   ]
  },
  {
   "cell_type": "code",
   "execution_count": null,
   "metadata": {},
   "outputs": [],
   "source": [
    "# Define image plane\n",
    "u, v, o = np.array([[40., 0, 0], [0., 0., -70.], [320., -110., 60.]])\n",
    "\n",
    "# Define image plane resolution\n",
    "res_u, res_v = 200, 350"
   ]
  },
  {
   "cell_type": "code",
   "execution_count": null,
   "metadata": {},
   "outputs": [],
   "source": [
    "u_scale = np.linspace(0, 1, res_u)[: , None, None]\n",
    "v_scale = np.linspace(0, 1, res_v)[None, :, None]\n",
    "\n",
    "grid = (u[None, None, :]*u_scale) + (v[None, None, :]*v_scale) + o[None, None, :]"
   ]
  },
  {
   "cell_type": "code",
   "execution_count": null,
   "metadata": {},
   "outputs": [],
   "source": [
    "piezo_filter   = lambda pos: np.allclose(pos, np.array([385.0, -110.0, 198.0]))\n",
    "cMut_filter    = lambda pos: any(\n",
    "    np.allclose(pos, np.array([k+311.1, -110.0, 198.0]))\n",
    "    for k in range(0,61)\n",
    "    for l in range(-5, 7, 5)\n",
    ")\n",
    "\n",
    "selected_p = np.apply_along_axis(piezo_filter, 0, p_pos)\n",
    "selected_c = np.apply_along_axis(cMut_filter, 0, c_pos)\n",
    "selected = np.logical_and(selected_p, selected_c)\n",
    "NUM_RELATION = np.sum(selected)\n",
    "\n",
    "selected_idxs, = selected.nonzero()\n",
    "\n",
    "\n",
    "NUM_RELATION"
   ]
  },
  {
   "cell_type": "code",
   "execution_count": null,
   "metadata": {},
   "outputs": [],
   "source": [
    "dr = dt * c_sound\n",
    "\n",
    "def image_rx_tx(rx_pos, tx_pos, start, stop, rel):\n",
    "    D_rx = np.linalg.norm(grid - rx_pos, axis= 2)\n",
    "    D_tx = np.linalg.norm(grid - tx_pos, axis= 2)\n",
    "    \n",
    "    D_total = D_rx+D_tx\n",
    "\n",
    "\n",
    "    Mt = np.zeros([res_u*res_v, stop-start])\n",
    "\n",
    "    for i in range(start, stop):\n",
    "        ff = np.ravel( ((D_total) < (i+1)*dr) * ((D_total) > i*dr))\n",
    "        rsq = np.ravel(D_total**2)\n",
    "\n",
    "        # Mt computes the approx. inverse\n",
    "        Mt[:, i-start] = rsq*ff\n",
    "\n",
    "\n",
    "    p = np.dot(Mt, data[rel,start:stop])\n",
    "    r = p.reshape([res_u, res_v])\n",
    "    return r\n",
    "\n",
    "dr"
   ]
  },
  {
   "cell_type": "code",
   "execution_count": null,
   "metadata": {},
   "outputs": [],
   "source": [
    "import math\n",
    "\n",
    "# Only use samples where ellipsoide goes through the image plane \n",
    "# therefore compute minimal and maximal time define interval of interest on samples\n",
    "distances = np.linalg.norm(p_pos[None,None,:,selected]-grid[:,:,:,None], axis=2) + \\\n",
    "            np.linalg.norm(c_pos[None,None,:,selected]-grid[:,:,:,None], axis=2)\n",
    "\n",
    "min_dist = np.min(distances)\n",
    "max_dist = np.max(distances)\n",
    "\n",
    "lower_sample_idx = math.floor(((min_dist / c_sound)) * f_res) # inclusive\n",
    "upper_sample_idx = math.ceil(((max_dist / c_sound)) * f_res)+1 # not inclusive\n",
    "\n",
    "NUM_SAMPLES = upper_sample_idx - lower_sample_idx\n",
    "\n",
    "NUM_SAMPLES"
   ]
  },
  {
   "cell_type": "markdown",
   "metadata": {},
   "source": [
    "Selected signal parts are shown below. We want to emphasize, that the mean signal looks similar to the single relation data. This hints that there is no big information gain from including more sensors (due to the big difference between aperture size and distance to the ROI)"
   ]
  },
  {
   "cell_type": "code",
   "execution_count": null,
   "metadata": {},
   "outputs": [],
   "source": [
    "fig, (ax1, ax2) = plt.subplots(2,1, figsize=(12,7))\n",
    "\n",
    "ax1.plot(np.mean(data[:,selected], axis=1))\n",
    "ax1.axvspan(lower_sample_idx, upper_sample_idx, color='red', alpha=0.2)\n",
    "ax1.set_title('Mean data')\n",
    "\n",
    "s = selected_idxs[0]\n",
    "ax2.plot(data[:,s])\n",
    "ax2.axvspan(lower_sample_idx, upper_sample_idx, color='red', alpha=0.2)\n",
    "ax2.set_title(f'Relation {s} (first selected)')"
   ]
  },
  {
   "cell_type": "code",
   "execution_count": null,
   "metadata": {},
   "outputs": [],
   "source": [
    "ri = np.zeros([res_u, res_v])\n",
    "for i in tqdm(selected_idxs):\n",
    "        rii = image_rx_tx(c_pos[None,None,:,i], p_pos[None,None,:,i], lower_sample_idx, upper_sample_idx, i)\n",
    "        ri += rii"
   ]
  },
  {
   "cell_type": "markdown",
   "metadata": {},
   "source": [
    "The figure below has a poor lateral resolution"
   ]
  },
  {
   "cell_type": "code",
   "execution_count": null,
   "metadata": {},
   "outputs": [],
   "source": [
    "plt.imshow(ri.T, cmap='gray')"
   ]
  }
 ],
 "metadata": {
  "interpreter": {
   "hash": "c6ebc3140717ed1dfd69c5c1c6b5ee3ea7784441aa13555f1fb1be1f1508e23e"
  },
  "kernelspec": {
   "display_name": "Python 3.8.12 64-bit ('HybridEcho': conda)",
   "language": "python",
   "name": "python3"
  },
  "language_info": {
   "codemirror_mode": {
    "name": "ipython",
    "version": 3
   },
   "file_extension": ".py",
   "mimetype": "text/x-python",
   "name": "python",
   "nbconvert_exporter": "python",
   "pygments_lexer": "ipython3",
   "version": "3.8.12"
  },
  "orig_nbformat": 4
 },
 "nbformat": 4,
 "nbformat_minor": 2
}
