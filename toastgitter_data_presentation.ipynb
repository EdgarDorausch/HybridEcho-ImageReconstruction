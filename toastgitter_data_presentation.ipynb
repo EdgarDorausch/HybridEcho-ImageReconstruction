{
 "cells": [
  {
   "cell_type": "code",
   "execution_count": null,
   "metadata": {},
   "outputs": [],
   "source": [
    "from __future__ import annotations\n",
    "from typing import *\n",
    "if TYPE_CHECKING:\n",
    "    pass\n",
    "from numpy.lib.function_base import iterable\n",
    "from src.Kernel import GaussKernel\n",
    "from src.EllipsoidRenderer import EllipsoidRenderer\n",
    "from src.GridBuilder import ImageGridBuilder\n",
    "from read_data import load_position_data\n",
    "import numpy as np\n",
    "import math\n",
    "import matplotlib.pyplot as plt\n",
    "import time\n",
    "\n",
    "plt.gcf().set_dpi(200)"
   ]
  },
  {
   "cell_type": "markdown",
   "metadata": {},
   "source": [
    "## Load Data"
   ]
  },
  {
   "cell_type": "code",
   "execution_count": null,
   "metadata": {},
   "outputs": [],
   "source": [
    "# Load Data\n",
    "\n",
    "data = np.load('data/toastgitter/all_data.npy') # Shape [STEPS, NUM_REL]\n",
    "p_pos, c_pos = load_position_data('data/toastgitter/LOGFILE_unified_coordinates.txt')\n",
    "NUM_SAMPLES, NUM_RELATIONS = data.shape\n",
    "\n",
    "print(data.shape)"
   ]
  },
  {
   "cell_type": "code",
   "execution_count": null,
   "metadata": {},
   "outputs": [],
   "source": [
    "# Plot Data\n",
    "\n",
    "fig, (ax1, ax2) = plt.subplots(2, figsize=(10,12))\n",
    "ax1.plot(np.mean(data, axis=1))\n",
    "ax2.plot(np.std(data, axis=1))\n",
    "plt.show()"
   ]
  },
  {
   "cell_type": "markdown",
   "metadata": {},
   "source": [
    "## Setup Eperiment"
   ]
  },
  {
   "cell_type": "code",
   "execution_count": null,
   "metadata": {},
   "outputs": [],
   "source": [
    "# Setup experiment\n",
    "\n",
    "from construct_matrix import MatrixBuilder\n",
    "mb = MatrixBuilder(\n",
    "    SPEED_OF_SOUND = 1_484_000.0, # [mm/s]\n",
    "    SAMPLE_RATE = 100_000_000.0, # [1/s]\n",
    "    ECHO_START_TIME = 0.0, # [s]\n",
    "\n",
    "    data_path      = 'data/toastgitter/all_data.npy',\n",
    "    positions_path = 'data/toastgitter/LOGFILE_unified_coordinates.txt',\n",
    "    piezo_filter   = lambda pos: np.allclose(pos, np.array([385.0, -110.0, 198.0])),\n",
    "    cMut_filter    = lambda pos: any(\n",
    "        np.allclose(pos, np.array([k+311.1, -110.0, 198.0]))\n",
    "        for k in range(0,61,4)\n",
    "        for l in range(-5, 7, 5)\n",
    "\n",
    "    ),\n",
    ")\n",
    "\n",
    "u = np.array([40,0,0], dtype=float)\n",
    "v = np.array([0,0,-20], dtype=float)\n",
    "o = np.array([320, -110, 10], dtype=float)\n",
    "\n",
    "res_u = 40\n",
    "res_v = 20\n",
    "\n",
    "kernel = GaussKernel(1.0)"
   ]
  },
  {
   "cell_type": "code",
   "execution_count": null,
   "metadata": {},
   "outputs": [],
   "source": [
    "# Plot positions\n",
    "mb.plot_positions(u=u, v=v, o=o, res_u=res_u, res_v=res_v, kernel=kernel)"
   ]
  },
  {
   "cell_type": "code",
   "execution_count": null,
   "metadata": {},
   "outputs": [],
   "source": [
    "# Construct matrix M\n",
    "\n",
    "time_start = time.time()\n",
    "M, lower_sample_idx, upper_sample_idx = mb.build_matrix(u=u, v=v, o=o, res_u=res_u, res_v=res_v, kernel=kernel)\n",
    "time_stop = time.time()\n",
    "\n",
    "print(time_stop-time_start)\n",
    "print(lower_sample_idx, upper_sample_idx)\n",
    "print(M.shape)"
   ]
  },
  {
   "cell_type": "code",
   "execution_count": null,
   "metadata": {},
   "outputs": [],
   "source": [
    "# Show example row vector of M\n",
    "fig = plt.imshow(M.reshape([-1,res_u, res_v])[2000], cmap='gray')\n",
    "plt.colorbar()"
   ]
  },
  {
   "cell_type": "markdown",
   "metadata": {},
   "source": [
    "# Do Calculations"
   ]
  },
  {
   "cell_type": "code",
   "execution_count": null,
   "metadata": {},
   "outputs": [],
   "source": [
    "# Compute Moore-Penrose-inverse\n",
    "time_start = time.time()\n",
    "Minv= np.linalg.pinv(M)\n",
    "time_stop = time.time()\n",
    "\n",
    "print(time_stop-time_start)"
   ]
  },
  {
   "cell_type": "code",
   "execution_count": null,
   "metadata": {},
   "outputs": [],
   "source": [
    "# Select necessary data and multiply with inverse matriv\n",
    "selected_data = mb.data[lower_sample_idx:upper_sample_idx, mb.selected].flatten(order='F')\n",
    "\n",
    "time_start = time.time()\n",
    "x_hat = Minv @ selected_data\n",
    "time_stop = time.time()\n",
    "print(time_stop-time_start)"
   ]
  },
  {
   "cell_type": "code",
   "execution_count": null,
   "metadata": {},
   "outputs": [],
   "source": [
    "fig, (ax1, ax2) = plt.subplots(1,2, figsize=(25,5))\n",
    "ax1.plot(np.std(data, axis=1))\n",
    "ax1.axvspan(lower_sample_idx, upper_sample_idx, color='red', alpha=0.2)\n",
    "ax2.imshow(x_hat.reshape([res_u, res_v])[:,::-1].T, cmap='gray')\n",
    "\n",
    "plt.show()"
   ]
  },
  {
   "cell_type": "markdown",
   "metadata": {},
   "source": [
    "## Gradient Descent"
   ]
  },
  {
   "cell_type": "code",
   "execution_count": null,
   "metadata": {},
   "outputs": [],
   "source": [
    "# Compute Hessian and M^T @ y\n",
    "H = M.T @ M\n",
    "M_y = M.T @ selected_data"
   ]
  },
  {
   "cell_type": "code",
   "execution_count": null,
   "metadata": {},
   "outputs": [],
   "source": [
    "# Normalize\n",
    "norm_coeff = np.linalg.norm(M_y)\n",
    "\n",
    "H /= norm_coeff\n",
    "M_y /= norm_coeff"
   ]
  },
  {
   "cell_type": "code",
   "execution_count": null,
   "metadata": {},
   "outputs": [],
   "source": [
    "plt.gcf().set_dpi(200)\n",
    "plt.imshow(H)\n",
    "plt.colorbar()\n",
    "plt.show()"
   ]
  },
  {
   "cell_type": "code",
   "execution_count": null,
   "metadata": {},
   "outputs": [],
   "source": [
    "# Do calculations\n",
    "alpha_0 = 0.01\n",
    "x_grad = M_y.copy()\n",
    "momentum = np.zeros(x_grad.shape)\n",
    "\n",
    "grad_norms = []\n",
    "for it in range(5000):\n",
    "    alpha = alpha_0 * np.power(it+1, -0.5)\n",
    "    g = H@x_grad-M_y\n",
    "    grad_norms.append(np.linalg.norm(g))\n",
    "    x_grad -= alpha*(g+momentum)\n",
    "    momentum = g"
   ]
  },
  {
   "cell_type": "code",
   "execution_count": null,
   "metadata": {},
   "outputs": [],
   "source": [
    "# Convergence plot & results\n",
    "\n",
    "fig, (ax1, ax2) = plt.subplots(1,2, figsize=(20,5))\n",
    "ax1.plot(grad_norms)\n",
    "ax2.imshow(x_guess.reshape([res_u, res_v])[:,::-1].T, cmap='gray')\n",
    "plt.show()"
   ]
  },
  {
   "cell_type": "code",
   "execution_count": null,
   "metadata": {},
   "outputs": [],
   "source": [
    "# Compute determinant of H\n",
    "np.linalg.det(H)"
   ]
  },
  {
   "cell_type": "code",
   "execution_count": null,
   "metadata": {},
   "outputs": [],
   "source": [
    "diff = x_hat - x_grad\n",
    "print(np.linalg.norm(diff))"
   ]
  },
  {
   "cell_type": "code",
   "execution_count": null,
   "metadata": {},
   "outputs": [],
   "source": [
    "print('Error of gradient descent method:', np.linalg.norm(M@x_grad-selected_data))\n",
    "print('Error of moore-penrose method:', np.linalg.norm(M@x_hat-selected_data))"
   ]
  },
  {
   "cell_type": "code",
   "execution_count": null,
   "metadata": {},
   "outputs": [],
   "source": [
    "# Is diff in nullspace of H\n",
    "np.linalg.norm(H@diff)"
   ]
  },
  {
   "cell_type": "markdown",
   "metadata": {},
   "source": [
    "## Sparsity Analysis"
   ]
  },
  {
   "cell_type": "code",
   "execution_count": null,
   "metadata": {},
   "outputs": [],
   "source": [
    "threshold = 1e-10\n",
    "print('Sparsity of M', np.sum(M<threshold)/M.size)\n",
    "print('Sparsity of M', np.sum(Minv<threshold)/Minv.size)"
   ]
  },
  {
   "cell_type": "markdown",
   "metadata": {},
   "source": [
    "## Further steps\n",
    "- plot data interval in date-mean / std plot\n",
    "- use gpu via torch\n",
    "- smear out ellips to reduce data dimensionality\n",
    "- use numba and calculate matrix directly on gpu\n",
    "- use matrix chunks to handle larger matricies"
   ]
  }
 ],
 "metadata": {
  "language_info": {},
  "orig_nbformat": 3
 },
 "nbformat": 4,
 "nbformat_minor": 2
}