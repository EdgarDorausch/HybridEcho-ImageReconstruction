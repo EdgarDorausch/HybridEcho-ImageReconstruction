{
 "metadata": {
  "language_info": {
   "codemirror_mode": {
    "name": "ipython",
    "version": 3
   },
   "file_extension": ".py",
   "mimetype": "text/x-python",
   "name": "python",
   "nbconvert_exporter": "python",
   "pygments_lexer": "ipython3",
   "version": "3.8.5"
  },
  "orig_nbformat": 2,
  "kernelspec": {
   "name": "python385jvsc74a57bd09ccad08604841dc9f4a3452bd73d9b4738aaa0b51450333d4b84e8d126d71400",
   "display_name": "Python 3.8.5 64-bit ('base': conda)"
  }
 },
 "nbformat": 4,
 "nbformat_minor": 2,
 "cells": [
  {
   "cell_type": "code",
   "execution_count": null,
   "metadata": {},
   "outputs": [],
   "source": [
    "from __future__ import annotations\n",
    "from typing import *\n",
    "if TYPE_CHECKING:\n",
    "    pass\n",
    "from numpy.lib.function_base import iterable\n",
    "from src.Kernel import GaussKernel\n",
    "from src.EllipsoidRenderer import EllipsoidRenderer\n",
    "from src.GridBuilder import ImageGridBuilder\n",
    "from read_data import load_position_data\n",
    "import numpy as np\n",
    "import math\n",
    "import matplotlib.pyplot as plt"
   ]
  },
  {
   "cell_type": "code",
   "execution_count": null,
   "metadata": {},
   "outputs": [],
   "source": [
    "data = np.load('data/toastgitter/all_data.npy') # Shape [STEPS, NUM_REL]\n",
    "p_pos, c_pos = load_position_data('data/toastgitter/LOGFILE_unified_coordinates.txt')\n",
    "print(data.shape)\n"
   ]
  },
  {
   "cell_type": "code",
   "execution_count": null,
   "metadata": {},
   "outputs": [],
   "source": [
    "NUM_SAMPLES, NUM_RELATIONS = data.shape\n",
    "SPEED_OF_SOUND = 1_484_000.0 # [mm/s]\n",
    "SAMPLE_RATE = 10_000_000.0 # [1/s]\n",
    "ECHO_START_TIME = 0.0 # [s]"
   ]
  },
  {
   "cell_type": "code",
   "execution_count": null,
   "metadata": {},
   "outputs": [],
   "source": [
    "plt.plot(np.mean(data, axis=1))"
   ]
  },
  {
   "cell_type": "code",
   "execution_count": null,
   "metadata": {},
   "outputs": [],
   "source": [
    "plt.plot(np.std(data, axis=1))"
   ]
  },
  {
   "cell_type": "code",
   "execution_count": null,
   "metadata": {},
   "outputs": [],
   "source": []
  }
 ]
}