{
 "cells": [
  {
   "cell_type": "code",
   "execution_count": null,
   "metadata": {},
   "outputs": [],
   "source": [
    "from typing import *\n",
    "import numpy as np\n",
    "from matplotlib import pyplot as plt\n",
    "from time import time\n",
    "from tqdm import tqdm\n",
    "from scipy.sparse import csr_matrix, csc_matrix\n",
    "from numba import jit\n",
    "import math\n",
    "\n",
    "\n",
    "%matplotlib inline\n",
    "plt.rcParams['figure.dpi'] = 140"
   ]
  },
  {
   "cell_type": "code",
   "execution_count": null,
   "metadata": {},
   "outputs": [],
   "source": [
    "# Load TX Signal\n",
    "\n",
    "sig_tx_raw = np.fromfile('data/20211209_15_03_40_image_refl_1IKTS1pcbvch1_pa30db_1IPMS_nolna_chirp10mhz_suture/ch_000/tx_signal_ch_000_00000.float32', dtype='>f4')\n",
    "\n",
    "len_sig_raw, = sig_tx_raw.shape\n",
    "len_sig_raw"
   ]
  },
  {
   "cell_type": "code",
   "execution_count": null,
   "metadata": {},
   "outputs": [],
   "source": [
    "# Load RX Signals\n",
    "\n",
    "NUM_SIGNALS = 312\n",
    "\n",
    "# (It is assumed that the rx signals have the same length as the tx signals)\n",
    "sig_rx_raw = np.empty([len_sig_raw, NUM_SIGNALS])\n",
    "\n",
    "for i in range(NUM_SIGNALS):\n",
    "    sig_rx_raw[:, i] = np.fromfile(f'data/20211209_15_03_40_image_refl_1IKTS1pcbvch1_pa30db_1IPMS_nolna_chirp10mhz_suture/ch_000/rx_signal_ch_000_{i+1:05}.float32', dtype='>f4')\n",
    "\n",
    "sig_rx_raw.shape"
   ]
  },
  {
   "cell_type": "code",
   "execution_count": null,
   "metadata": {},
   "outputs": [],
   "source": [
    "# Experiment Specs:\n",
    "\n",
    "# Sampling freq.\n",
    "f_samp = 100e6 # [Hz]\n",
    "\n",
    "f_min, f_max = 2e6, 10e6 # [Hz]    <-- TODO\n",
    "\n",
    "# Sampling period\n",
    "dt_samp = 1/f_samp # [s]\n",
    "\n",
    "# Mean speed of sound (water)\n",
    "c_sound = 1_484_000.0 # [mm/s]\n",
    "\n",
    "f_s = f_samp\n",
    "\n",
    "x_l = len_sig_raw\n",
    "\n",
    "f0 = int(f_min/f_samp*len_sig_raw) #min of bandpass signal\n",
    "f1 = int(f_max/f_samp*len_sig_raw) #max freq of bandpass signal\n",
    "\n",
    "print({'f0': f0, 'f1': f1})"
   ]
  },
  {
   "cell_type": "code",
   "execution_count": null,
   "metadata": {},
   "outputs": [],
   "source": [
    "sig_rx_raw_f = np.fft.fft(sig_rx_raw, axis=0)\n",
    "sig_tx_raw_f = np.fft.fft(sig_tx_raw)"
   ]
  },
  {
   "cell_type": "code",
   "execution_count": null,
   "metadata": {},
   "outputs": [],
   "source": [
    "fig, axs = plt.subplots(1, 2, figsize=[20,5])\n",
    "\n",
    "md = sig_tx_raw_f.real\n",
    "axs[0].plot(md)\n",
    "axs[0].axvspan(f0, f1, color='red', alpha=0.2)\n",
    "axs[0].set_title(f'Mean Fourier Transform')\n",
    "\n",
    "h = int(0.1*(f1 - f0))\n",
    "axs[1].plot(md[f0-h:f1+h].real)\n",
    "axs[1].axvspan(h, (f1 - f0)+h, color='red', alpha=0.2)\n",
    "axs[1].set_title(f'Zoomed Mean Fourier Transform')\n"
   ]
  },
  {
   "cell_type": "code",
   "execution_count": null,
   "metadata": {},
   "outputs": [],
   "source": [
    "\n",
    "\n",
    "fig, (ax1, ax2) = plt.subplots(1,2, figsize=[15,5])\n",
    "ax1.plot(np.mean(sig_rx_raw_f, axis=1)[:].real)\n",
    "ax2.plot(sig_tx_raw_f.real)\n",
    "ax2.axvspan(f0, f1, color='red', alpha=0.2)\n",
    "\n",
    "plt.show()"
   ]
  },
  {
   "cell_type": "code",
   "execution_count": null,
   "metadata": {},
   "outputs": [],
   "source": [
    "sig_rx_np_f = sig_rx_raw_f[f0:f1, :] # bandpass signal only (tx)\n",
    "sig_tx_bp_f = sig_tx_raw_f[f0:f1] # bandpass signal only (rx)"
   ]
  },
  {
   "cell_type": "code",
   "execution_count": null,
   "metadata": {},
   "outputs": [],
   "source": [
    "sig_rx_ir_f = sig_rx_np_f * sig_tx_bp_f[:, None].conj()  # \"rotate back phases\" of chirp"
   ]
  },
  {
   "cell_type": "code",
   "execution_count": null,
   "metadata": {},
   "outputs": [],
   "source": [
    "sig_rx_cir = np.abs(np.fft.ifft(sig_rx_ir_f, axis=0)) # reconstruct whole signal\n",
    "sig_rx_cir.shape"
   ]
  },
  {
   "cell_type": "code",
   "execution_count": null,
   "metadata": {},
   "outputs": [],
   "source": [
    "f_res = f_samp/len_sig_raw * (sig_rx_cir.shape[0])\n",
    "dt = 1/f_res\n",
    "\n",
    "dt"
   ]
  },
  {
   "cell_type": "code",
   "execution_count": null,
   "metadata": {},
   "outputs": [],
   "source": [
    "plt.plot(np.linspace(0, sig_rx_cir.shape[0]*dt, sig_rx_cir.shape[0]), sig_rx_cir[:, -2])"
   ]
  },
  {
   "cell_type": "code",
   "execution_count": null,
   "metadata": {},
   "outputs": [],
   "source": [
    "# Construct mask for selected relations\n",
    "def construct_selected(offsets: List[int]) -> np.ndarray:\n",
    "    selected = np.empty([sum(offsets)], dtype=bool)\n",
    "    curr_offset = 0\n",
    "    mode = True\n",
    "    for n in offsets:\n",
    "        next_offset = curr_offset+n\n",
    "        selected[curr_offset:next_offset] = mode\n",
    "        curr_offset = next_offset\n",
    "        mode = not mode\n",
    "    return selected\n",
    "\n",
    "selected = construct_selected([50, 0, 50, 4, 50, 3, 50, 4, 100, 1])\n",
    "selected.shape"
   ]
  },
  {
   "cell_type": "code",
   "execution_count": null,
   "metadata": {},
   "outputs": [],
   "source": [
    "pos_raw = np.genfromtxt('data/20211209_15_03_40_image_refl_1IKTS1pcbvch1_pa30db_1IPMS_nolna_chirp10mhz_suture/positions.csv', delimiter=',', dtype=np.float64)\n",
    "pos_raw.shape"
   ]
  },
  {
   "cell_type": "code",
   "execution_count": null,
   "metadata": {},
   "outputs": [],
   "source": [
    "# np.savetxt('data/20211209_15_03_40_image_refl_1IKTS1pcbvch1_pa30db_1IPMS_nolna_chirp10mhz_suture/positions.csv', pos, delimiter=\",\")"
   ]
  },
  {
   "cell_type": "code",
   "execution_count": null,
   "metadata": {},
   "outputs": [],
   "source": [
    "sig_rx_sel_cir = sig_rx_cir[:,selected]\n",
    "pos_raw_sel = pos_raw[selected]\n",
    "\n",
    "sig_rx_sel_cir.shape"
   ]
  },
  {
   "cell_type": "code",
   "execution_count": null,
   "metadata": {},
   "outputs": [],
   "source": [
    "pitch = 260e-3 # [mm]\n",
    "size_piezo =  pos_raw_sel[50, 1] - pos_raw_sel[49, 1] - 2*pitch # [mm]"
   ]
  },
  {
   "cell_type": "code",
   "execution_count": null,
   "metadata": {},
   "outputs": [],
   "source": [
    "diff = (pos_raw_sel[49,:2]+pos_raw_sel[50, :2])/2 - pos_raw_sel[100, 4:6]\n",
    "pos = pos_raw_sel.copy()\n",
    "pos[:, 4:6] += diff[None,:] "
   ]
  },
  {
   "cell_type": "code",
   "execution_count": null,
   "metadata": {},
   "outputs": [],
   "source": [
    "def plot_positions():\n",
    "    x, y = pos[:,:2].T\n",
    "    plt.scatter(x, y) \n",
    "\n",
    "    x, y = pos[:,4:6].T\n",
    "    plt.scatter(x, y) \n",
    "\n",
    "plot_positions()"
   ]
  },
  {
   "cell_type": "markdown",
   "metadata": {},
   "source": [
    "## Image reconstruction"
   ]
  },
  {
   "cell_type": "code",
   "execution_count": null,
   "metadata": {},
   "outputs": [],
   "source": []
  }
 ],
 "metadata": {
  "interpreter": {
   "hash": "c6ebc3140717ed1dfd69c5c1c6b5ee3ea7784441aa13555f1fb1be1f1508e23e"
  },
  "kernelspec": {
   "display_name": "Python 3.8.12 64-bit ('HybridEcho': conda)",
   "language": "python",
   "name": "python3"
  },
  "language_info": {
   "codemirror_mode": {
    "name": "ipython",
    "version": 3
   },
   "file_extension": ".py",
   "mimetype": "text/x-python",
   "name": "python",
   "nbconvert_exporter": "python",
   "pygments_lexer": "ipython3",
   "version": "3.8.12"
  },
  "orig_nbformat": 4
 },
 "nbformat": 4,
 "nbformat_minor": 2
}
